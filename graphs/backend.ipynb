{
 "cells": [
  {
   "cell_type": "code",
   "execution_count": 22,
   "metadata": {},
   "outputs": [],
   "source": [
    "import os\n",
    "import asyncio\n",
    "from dotenv import load_dotenv\n",
    "from fastapi import FastAPI\n",
    "from fastapi.responses import StreamingResponse\n",
    "from pydantic import BaseModel\n",
    "from langchain_mistralai import ChatMistralAI\n",
    "from langchain_core.prompts import PromptTemplate\n",
    "# from langgraph.checkpoint import MemorySaver\n",
    "from langchain_core.runnables import RunnableLambda\n",
    "from langchain_core.messages import HumanMessage, SystemMessage, RemoveMessage\n",
    "from langgraph.graph import MessagesState\n",
    "from langgraph.graph import StateGraph, START, END\n",
    "\n",
    "from IPython.display import Image, display\n"
   ]
  },
  {
   "cell_type": "code",
   "execution_count": 23,
   "metadata": {},
   "outputs": [],
   "source": [
    "\n",
    "# Load API key\n",
    "load_dotenv()\n",
    "api_key = os.getenv(\"MISTRAL_API_KEY\")\n",
    "\n",
    "# Initialize FastAPI\n",
    "# app = FastAPI()\n"
   ]
  },
  {
   "cell_type": "code",
   "execution_count": 24,
   "metadata": {},
   "outputs": [],
   "source": [
    "# Initialize models\n",
    "entrepreneur_llm = ChatMistralAI(\n",
    "    model=\"mistral-small-latest\", temperature=0, max_retries=2, streaming=True\n",
    ")\n",
    "\n",
    "dragon_llm = ChatMistralAI(\n",
    "    model=\"mistral-small-latest\", temperature=0, max_retries=2, streaming=True\n",
    ")"
   ]
  },
  {
   "cell_type": "code",
   "execution_count": 25,
   "metadata": {},
   "outputs": [],
   "source": [
    "# Define prompts\n",
    "entrepreneur_prompt = PromptTemplate.from_template(\n",
    "    \"\"\"You are an ambitious entrepreneur pitching a startup idea on Dragon's Den.\n",
    "    \n",
    "    Your task:\n",
    "    1. Identify a major problem in the {industry} industry.\n",
    "    2. Propose an innovative business idea that solves this problem.\n",
    "    3. Explain your unique selling point (USP) – what makes your idea different?\n",
    "    4. Describe your business model – how will you generate revenue?\n",
    "    \n",
    "    Be compelling and persuasive. Keep your pitch under 100 words.\n",
    "\n",
    "    Your pitch:\"\"\"\n",
    ")\n",
    "\n",
    "dragon_prompt = PromptTemplate.from_template(\n",
    "    \"\"\"You are a seasoned investor on Dragon's Den, evaluating a startup pitch. \n",
    "    \n",
    "    Your task:\n",
    "    1. Analyze the business idea: {pitch}\n",
    "    2. Identify the strengths – what makes it promising?\n",
    "    3. Highlight potential risks or weaknesses.\n",
    "    4. Assess market potential – is there demand? Who are the competitors?\n",
    "    5. Suggest improvements or alternative business strategies.\n",
    "\n",
    "    Provide your analysis in a professional but engaging way, like a real Dragon's Den judge. Keep your response under 200 words.\n",
    "\n",
    "    Your response:\"\"\"\n",
    ")\n",
    "\n",
    "response_prompt = PromptTemplate.from_template(\n",
    "    \"\"\"You are the entrepreneur responding to an investor's feedback. Address the points raised in their evaluation and explain how your business will overcome challenges. Keep your response under 100 words.\n",
    "\n",
    "    Investor's feedback: {evaluation}\n",
    "\n",
    "    Your response:\"\"\"\n",
    ")"
   ]
  },
  {
   "cell_type": "code",
   "execution_count": 26,
   "metadata": {},
   "outputs": [],
   "source": [
    "# AI generated pitch for testing\n",
    "def generate_demo_pitch(industry: str):\n",
    "    entrepreneur_chain = entrepreneur_prompt | entrepreneur_llm\n",
    "    response = entrepreneur_chain.invoke({\"industry\": industry})\n",
    "    return response\n",
    "\n",
    "template_industry = \"fintech\"\n",
    "\n",
    "pitch = generate_demo_pitch(template_industry)"
   ]
  },
  {
   "cell_type": "code",
   "execution_count": 27,
   "metadata": {},
   "outputs": [
    {
     "name": "stdout",
     "output_type": "stream",
     "text": [
      "Ladies and Gentlemen, Dragons,\n",
      "\n",
      "The fintech industry is booming, but it's also riddled with complexity and high fees. The major problem? **Financial services are still too complicated and expensive for the average person.**\n",
      "\n",
      "Introducing **FinEase**, a revolutionary fintech platform that simplifies financial management and reduces costs. Our unique selling point? **AI-driven personal finance management** that automates budgeting, saving, and investing, all in one place.\n",
      "\n",
      "Our business model is subscription-based, with tiered plans starting at just $5/month. We also earn a small commission on investments made through our platform. With FinEase, everyone can achieve financial freedom without the hassle.\n",
      "\n",
      "Join us in making finance easy and affordable for all.\n"
     ]
    }
   ],
   "source": [
    "print(pitch.content)\n",
    "# print(pitch.pretty_print())"
   ]
  },
  {
   "cell_type": "code",
   "execution_count": 43,
   "metadata": {},
   "outputs": [
    {
     "data": {
      "image/png": "[encoded data removed]",
      "text/plain": [
       "<IPython.core.display.Image object>"
      ]
     },
     "metadata": {},
     "output_type": "display_data"
    }
   ],
   "source": [
    "# Define state for conversation tracking\n",
    "class ConversationState(MessagesState):\n",
    "    industry: str = template_industry\n",
    "    pitch: str\n",
    "    summary: str\n",
    "\n",
    "# Initialize memory for storing conversation state\n",
    "# memory = MemorySaver()\n",
    "\n",
    "# Define LangGraph workflow\n",
    "builder = StateGraph(ConversationState)\n",
    "\n",
    "# Step 1: Generate entrepreneur's pitch\n",
    "# def generate_pitch(state: ConversationState):\n",
    "#     entrepreneur_chain = entrepreneur_prompt | entrepreneur_llm\n",
    "#     response = entrepreneur_chain.invoke({\"industry\": state.industry})\n",
    "#     state.pitch = response.content\n",
    "#     return state\n",
    "\n",
    "# Step 2: Investor evaluates pitch\n",
    "def evaluate_pitch(state: ConversationState):\n",
    "    # print(state[\"messages\"])\n",
    "    pitch = state[\"messages\"][-1].content\n",
    "    state[\"pitch\"] = pitch\n",
    "    dragon_chain = dragon_prompt | dragon_llm\n",
    "    response = dragon_chain.invoke({\"pitch\": pitch})\n",
    "    # state[\"evaluation\"] = response.content\n",
    "    return {\"messages\": response}\n",
    "\n",
    "def entrepreneur_response(state: ConversationState):\n",
    "    evaluation = state[\"messages\"][-1].content\n",
    "    response_chain = response_prompt | entrepreneur_llm\n",
    "    response = response_chain.invoke({\"evaluation\": evaluation})\n",
    "    # state[\"response\"] = response.content\n",
    "    return {\"messages\": response}\n",
    "\n",
    "# @graph.node()\n",
    "# async def entrepreneur_response(state: PitchState):\n",
    "#     \"\"\"Entrepreneur responds to the investor's feedback.\"\"\"\n",
    "#     response_chain = response_prompt | entrepreneur_llm\n",
    "#     result = await response_chain.ainvoke({\"evaluation\": state.evaluation})\n",
    "#     state.response = result.content\n",
    "#     return state\n",
    "\n",
    "# Add nodes to the graph\n",
    "# graph.add_node(\"entrepreneur\", RunnableLambda(generate_pitch))\n",
    "# graph.add_node(\"investor\", RunnableLambda(evaluate_pitch))\n",
    "# graph.add_node(\"entrepreneur_response\", RunnableLambda(entrepreneur_response))\n",
    "\n",
    "# builder.add_node(\"entrepreneur\", generate_pitch)\n",
    "builder.add_node(\"dragon_1\", evaluate_pitch)\n",
    "builder.add_node(\"entrepreneur_response\", entrepreneur_response)\n",
    "\n",
    "# Define edges (execution order)\n",
    "# builder.add_edge(START, \"entrepreneur\")\n",
    "builder.add_edge(START, \"dragon_1\")\n",
    "# builder.add_edge(\"entrepreneur\", \"investor\")  # Entrepreneur -> Investor\n",
    "builder.add_edge(\"dragon_1\", \"entrepreneur_response\")  # Entrepreneur -> Investor\n",
    "builder.add_edge(\"entrepreneur_response\", END)\n",
    "\n",
    "# Compile the graph\n",
    "# app_graph = graph.compile(checkpointer=memory)\n",
    "graph = builder.compile()\n",
    "display(Image(graph.get_graph().draw_mermaid_png()))\n",
    "\n"
   ]
  },
  {
   "cell_type": "code",
   "execution_count": 41,
   "metadata": {},
   "outputs": [
    {
     "name": "stdout",
     "output_type": "stream",
     "text": [
      "================================\u001b[1m Human Message \u001b[0m=================================\n",
      "\n",
      "Ladies and Gentlemen, Dragons,\n",
      "\n",
      "The fintech industry is booming, but it's also riddled with complexity and high fees. The major problem? **Financial services are still too complicated and expensive for the average person.**\n",
      "\n",
      "Introducing **FinEase**, a revolutionary fintech platform that simplifies financial management and reduces costs. Our unique selling point? **AI-driven personal finance management** that automates budgeting, saving, and investing, all in one place.\n",
      "\n",
      "Our business model is subscription-based, with tiered plans starting at just $5/month. We also earn a small commission on investments made through our platform. With FinEase, everyone can achieve financial freedom without the hassle.\n",
      "\n",
      "Join us in making finance easy and affordable for all.\n",
      "==================================\u001b[1m Ai Message \u001b[0m==================================\n",
      "\n",
      "Ladies and Gentlemen, Dragons,\n",
      "\n",
      "FinEase presents an intriguing proposition in the fintech space, tackling the perennial issues of complexity and high fees. The AI-driven personal finance management is a strong selling point, offering a comprehensive solution for budgeting, saving, and investing. The subscription-based model, starting at just $5/month, is accessible and scalable.\n",
      "\n",
      "**Strengths:**\n",
      "- **Simplicity and Accessibility:** The platform's user-friendly design and low entry cost make it appealing to a broad audience.\n",
      "- **AI Integration:** Automating financial management can significantly reduce user effort and improve decision-making.\n",
      "- **Dual Revenue Streams:** Subscription fees and investment commissions provide a stable income.\n",
      "\n",
      "**Potential Risks:**\n",
      "- **Market Saturation:** The fintech market is crowded with competitors like Mint, Personal Capital, and YNAB.\n",
      "- **Regulatory Hurdles:** Financial services are heavily regulated, which could slow down growth.\n",
      "- **User Trust:** Convincing users to trust AI with their finances could be challenging.\n",
      "\n",
      "**Market Potential:**\n",
      "There's a clear demand for simplified financial management, especially among millennials and Gen Z. Competitors are numerous, but FinEase's AI-driven approach could differentiate it.\n",
      "\n",
      "**Improvements:**\n",
      "- **Partnerships:** Collaborate with banks and financial institutions to enhance credibility and reach.\n",
      "- **Educational Content:** Offer financial literacy resources to build user trust and engagement.\n",
      "- **Flexible Pricing:** Consider a freemium model to attract a larger user base initially.\n",
      "\n",
      "In conclusion, FinEase has the potential to disrupt the fintech market with its innovative approach. However, it must navigate a competitive landscape and build user trust to succeed.\n",
      "==================================\u001b[1m Ai Message \u001b[0m==================================\n",
      "\n",
      "Thank you for your insightful feedback, Dragons. We acknowledge the competitive landscape and regulatory challenges. To address market saturation, we're focusing on our unique AI capabilities to offer personalized financial advice, setting us apart from competitors. We're actively pursuing strategic partnerships with banks to enhance credibility and expand our reach. To build user trust, we're developing comprehensive educational content and considering a freemium model to attract a larger user base initially. We're confident that these strategies will help FinEase thrive in the fintech market.\n"
     ]
    }
   ],
   "source": [
    "input_message = HumanMessage(content=pitch.content)\n",
    "for chunk in graph.stream({\"messages\": [input_message]}, stream_mode=\"values\"):\n",
    "    chunk[\"messages\"][-1].pretty_print()\n",
    "\n",
    "# input_message = {\"role\": \"user\", \"content\": \"what's my name?\"}\n",
    "# for chunk in graph.stream({\"messages\": [input_message]}, stream_mode=\"values\"):\n",
    "#     chunk[\"messages\"][-1].pretty_print()"
   ]
  }
 ],
 "metadata": {
  "kernelspec": {
   "display_name": "venv",
   "language": "python",
   "name": "python3"
  },
  "language_info": {
   "codemirror_mode": {
    "name": "ipython",
    "version": 3
   },
   "file_extension": ".py",
   "mimetype": "text/x-python",
   "name": "python",
   "nbconvert_exporter": "python",
   "pygments_lexer": "ipython3",
   "version": "3.12.3"
  }
 },
 "nbformat": 4,
 "nbformat_minor": 2
}
